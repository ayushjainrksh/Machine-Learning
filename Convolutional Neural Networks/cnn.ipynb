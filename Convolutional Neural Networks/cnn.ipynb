{
  "nbformat": 4,
  "nbformat_minor": 0,
  "metadata": {
    "colab": {
      "name": "cnn.ipynb",
      "version": "0.3.2",
      "provenance": [],
      "include_colab_link": true
    },
    "kernelspec": {
      "name": "python3",
      "display_name": "Python 3"
    },
    "accelerator": "GPU"
  },
  "cells": [
    {
      "cell_type": "markdown",
      "metadata": {
        "id": "view-in-github",
        "colab_type": "text"
      },
      "source": [
        "<a href=\"https://colab.research.google.com/github/ayushjainrksh/Machine-Learning/blob/master/Convolutional%20Neural%20Networks/cnn.ipynb\" target=\"_parent\"><img src=\"https://colab.research.google.com/assets/colab-badge.svg\" alt=\"Open In Colab\"/></a>"
      ]
    },
    {
      "metadata": {
        "id": "nIS5swX32o_S",
        "colab_type": "code",
        "outputId": "4af69a25-28af-4d8c-eb5e-5384618e63da",
        "colab": {
          "base_uri": "https://localhost:8080/",
          "height": 124
        }
      },
      "cell_type": "code",
      "source": [
        "from google.colab import drive\n",
        "drive.mount('/content/drive')"
      ],
      "execution_count": 1,
      "outputs": [
        {
          "output_type": "stream",
          "text": [
            "Go to this URL in a browser: https://accounts.google.com/o/oauth2/auth?client_id=947318989803-6bn6qk8qdgf4n4g3pfee6491hc0brc4i.apps.googleusercontent.com&redirect_uri=urn%3Aietf%3Awg%3Aoauth%3A2.0%3Aoob&scope=email%20https%3A%2F%2Fwww.googleapis.com%2Fauth%2Fdocs.test%20https%3A%2F%2Fwww.googleapis.com%2Fauth%2Fdrive%20https%3A%2F%2Fwww.googleapis.com%2Fauth%2Fdrive.photos.readonly%20https%3A%2F%2Fwww.googleapis.com%2Fauth%2Fpeopleapi.readonly&response_type=code\n",
            "\n",
            "Enter your authorization code:\n",
            "··········\n",
            "Mounted at /content/drive\n"
          ],
          "name": "stdout"
        }
      ]
    },
    {
      "metadata": {
        "id": "-GlMSHfE5BNY",
        "colab_type": "code",
        "colab": {
          "base_uri": "https://localhost:8080/",
          "height": 34
        },
        "outputId": "695f0c95-84e5-4123-b5d2-d871326c926f"
      },
      "cell_type": "code",
      "source": [
        "#Importing the keras libraries and packages\n",
        "from keras.models import Sequential\n",
        "from keras.layers import Convolution2D\n",
        "from keras.layers import MaxPooling2D\n",
        "from keras.layers import Flatten\n",
        "from keras.layers import Dense"
      ],
      "execution_count": 2,
      "outputs": [
        {
          "output_type": "stream",
          "text": [
            "Using TensorFlow backend.\n"
          ],
          "name": "stderr"
        }
      ]
    },
    {
      "metadata": {
        "id": "CY7Aj7vE-Swh",
        "colab_type": "code",
        "colab": {}
      },
      "cell_type": "code",
      "source": [
        "#Initialising the CNN\n",
        "classifier = Sequential()"
      ],
      "execution_count": 0,
      "outputs": []
    },
    {
      "metadata": {
        "id": "y7izGRXq-Rql",
        "colab_type": "code",
        "outputId": "0137c34d-3b87-4954-97b3-8079eb2beaf8",
        "colab": {
          "base_uri": "https://localhost:8080/",
          "height": 72
        }
      },
      "cell_type": "code",
      "source": [
        "#Step 1 - Convolution\n",
        "classifier.add(Convolution2D(32,3,3, input_shape = (64, 64,3), activation = 'relu'))"
      ],
      "execution_count": 4,
      "outputs": [
        {
          "output_type": "stream",
          "text": [
            "/usr/local/lib/python3.6/dist-packages/ipykernel_launcher.py:1: UserWarning: Update your `Conv2D` call to the Keras 2 API: `Conv2D(32, (3, 3), input_shape=(64, 64, 3..., activation=\"relu\")`\n",
            "  \"\"\"Entry point for launching an IPython kernel.\n"
          ],
          "name": "stderr"
        }
      ]
    },
    {
      "metadata": {
        "id": "yD2-jRAo-xYD",
        "colab_type": "code",
        "colab": {}
      },
      "cell_type": "code",
      "source": [
        "#Step 2 - Pooling \n",
        "classifier.add(MaxPooling2D(pool_size = (2,2)))"
      ],
      "execution_count": 0,
      "outputs": []
    },
    {
      "metadata": {
        "id": "3Ca2vQlP_CN_",
        "colab_type": "code",
        "colab": {}
      },
      "cell_type": "code",
      "source": [
        "#Step 3 - Flattening\n",
        "classifier.add(Flatten())"
      ],
      "execution_count": 0,
      "outputs": []
    },
    {
      "metadata": {
        "id": "9dKvQdfY_HTU",
        "colab_type": "code",
        "outputId": "17aeb5b5-dc6c-446f-8bf9-ecf2c468b4f2",
        "colab": {
          "base_uri": "https://localhost:8080/",
          "height": 106
        }
      },
      "cell_type": "code",
      "source": [
        "#Step 4 = Full connection\n",
        "classifier.add(Dense(output_dim = 128, activation = 'relu'))\n",
        "classifier.add(Dense(output_dim = 1, activation = 'sigmoid'))"
      ],
      "execution_count": 7,
      "outputs": [
        {
          "output_type": "stream",
          "text": [
            "/usr/local/lib/python3.6/dist-packages/ipykernel_launcher.py:1: UserWarning: Update your `Dense` call to the Keras 2 API: `Dense(activation=\"relu\", units=128)`\n",
            "  \"\"\"Entry point for launching an IPython kernel.\n",
            "/usr/local/lib/python3.6/dist-packages/ipykernel_launcher.py:2: UserWarning: Update your `Dense` call to the Keras 2 API: `Dense(activation=\"sigmoid\", units=1)`\n",
            "  \n"
          ],
          "name": "stderr"
        }
      ]
    },
    {
      "metadata": {
        "id": "0nm6vCBh_Zb2",
        "colab_type": "code",
        "colab": {}
      },
      "cell_type": "code",
      "source": [
        "#Compiling the CNN\n",
        "classifier.compile(optimizer = 'adam', loss = 'binary_crossentropy', metrics = ['accuracy'])"
      ],
      "execution_count": 0,
      "outputs": []
    },
    {
      "metadata": {
        "id": "QKyu8Nh6_cfX",
        "colab_type": "code",
        "colab": {}
      },
      "cell_type": "code",
      "source": [
        "#Fitting the CNN to the image\n",
        "from keras.preprocessing.image import ImageDataGenerator"
      ],
      "execution_count": 0,
      "outputs": []
    },
    {
      "metadata": {
        "id": "ern1JhmJ_1oW",
        "colab_type": "code",
        "colab": {}
      },
      "cell_type": "code",
      "source": [
        "train_datagen = ImageDataGenerator(rescale = 1./255, shear_range = 0.2, zoom_range = 0.2, horizontal_flip = True)"
      ],
      "execution_count": 0,
      "outputs": []
    },
    {
      "metadata": {
        "id": "FZKZ-_yfAJ7U",
        "colab_type": "code",
        "colab": {}
      },
      "cell_type": "code",
      "source": [
        "test_datagen = ImageDataGenerator(rescale = 1./255)"
      ],
      "execution_count": 0,
      "outputs": []
    },
    {
      "metadata": {
        "id": "zfaUkufnATzn",
        "colab_type": "code",
        "outputId": "b0ec6ffe-6c26-47f1-c763-a8f9e65db8bb",
        "colab": {
          "base_uri": "https://localhost:8080/",
          "height": 34
        }
      },
      "cell_type": "code",
      "source": [
        "training_set = train_datagen.flow_from_directory('/content/drive/My Drive/dataset/training_set', target_size = (64,64), batch_size = 32, class_mode = 'binary')"
      ],
      "execution_count": 13,
      "outputs": [
        {
          "output_type": "stream",
          "text": [
            "Found 8000 images belonging to 2 classes.\n"
          ],
          "name": "stdout"
        }
      ]
    },
    {
      "metadata": {
        "id": "OlgF_IMsAnlQ",
        "colab_type": "code",
        "outputId": "09bbf164-bbf8-4bb2-a49e-31cf907eb9b7",
        "colab": {
          "base_uri": "https://localhost:8080/",
          "height": 34
        }
      },
      "cell_type": "code",
      "source": [
        "test_set = test_datagen.flow_from_directory('/content/drive/My Drive/dataset/test_set', target_size = (64,64), batch_size = 32, class_mode = 'binary')"
      ],
      "execution_count": 14,
      "outputs": [
        {
          "output_type": "stream",
          "text": [
            "Found 2000 images belonging to 2 classes.\n"
          ],
          "name": "stdout"
        }
      ]
    },
    {
      "metadata": {
        "id": "SYn8YrdhCh6E",
        "colab_type": "code",
        "outputId": "5ef64c53-107c-4195-aab8-12c7516874fe",
        "colab": {
          "base_uri": "https://localhost:8080/",
          "height": 992
        }
      },
      "cell_type": "code",
      "source": [
        "classifier.fit_generator(training_set, samples_per_epoch = 8000, nb_epoch = 25, validation_data = test_set, nb_val_samples = 2000)"
      ],
      "execution_count": 15,
      "outputs": [
        {
          "output_type": "stream",
          "text": [
            "/usr/local/lib/python3.6/dist-packages/ipykernel_launcher.py:1: UserWarning: The semantics of the Keras 2 argument `steps_per_epoch` is not the same as the Keras 1 argument `samples_per_epoch`. `steps_per_epoch` is the number of batches to draw from the generator at each epoch. Basically steps_per_epoch = samples_per_epoch/batch_size. Similarly `nb_val_samples`->`validation_steps` and `val_samples`->`steps` arguments have changed. Update your method calls accordingly.\n",
            "  \"\"\"Entry point for launching an IPython kernel.\n",
            "/usr/local/lib/python3.6/dist-packages/ipykernel_launcher.py:1: UserWarning: Update your `fit_generator` call to the Keras 2 API: `fit_generator(<keras_pre..., validation_data=<keras_pre..., steps_per_epoch=250, epochs=25, validation_steps=2000)`\n",
            "  \"\"\"Entry point for launching an IPython kernel.\n"
          ],
          "name": "stderr"
        },
        {
          "output_type": "stream",
          "text": [
            "Epoch 1/25\n",
            "250/250 [==============================] - 3028s 12s/step - loss: 0.6671 - acc: 0.6154 - val_loss: 0.6114 - val_acc: 0.6704\n",
            "Epoch 2/25\n",
            "250/250 [==============================] - 312s 1s/step - loss: 0.6005 - acc: 0.6815 - val_loss: 0.5823 - val_acc: 0.7007\n",
            "Epoch 3/25\n",
            "250/250 [==============================] - 314s 1s/step - loss: 0.5713 - acc: 0.6978 - val_loss: 0.5910 - val_acc: 0.7153\n",
            "Epoch 4/25\n",
            "250/250 [==============================] - 315s 1s/step - loss: 0.5616 - acc: 0.7094 - val_loss: 0.5564 - val_acc: 0.7190\n",
            "Epoch 5/25\n",
            "250/250 [==============================] - 314s 1s/step - loss: 0.5346 - acc: 0.7261 - val_loss: 0.5791 - val_acc: 0.7054\n",
            "Epoch 6/25\n",
            "250/250 [==============================] - 315s 1s/step - loss: 0.5184 - acc: 0.7420 - val_loss: 0.5353 - val_acc: 0.7317\n",
            "Epoch 7/25\n",
            "250/250 [==============================] - 314s 1s/step - loss: 0.5083 - acc: 0.7469 - val_loss: 0.5417 - val_acc: 0.7179\n",
            "Epoch 8/25\n",
            "250/250 [==============================] - 315s 1s/step - loss: 0.4950 - acc: 0.7543 - val_loss: 0.5106 - val_acc: 0.7551\n",
            "Epoch 9/25\n",
            "250/250 [==============================] - 314s 1s/step - loss: 0.4776 - acc: 0.7679 - val_loss: 0.5062 - val_acc: 0.7537\n",
            "Epoch 10/25\n",
            "250/250 [==============================] - 315s 1s/step - loss: 0.4767 - acc: 0.7726 - val_loss: 0.5755 - val_acc: 0.7444\n",
            "Epoch 11/25\n",
            "250/250 [==============================] - 315s 1s/step - loss: 0.4581 - acc: 0.7734 - val_loss: 0.5093 - val_acc: 0.7592\n",
            "Epoch 12/25\n",
            "250/250 [==============================] - 315s 1s/step - loss: 0.4448 - acc: 0.7916 - val_loss: 0.5068 - val_acc: 0.7715\n",
            "Epoch 13/25\n",
            "250/250 [==============================] - 315s 1s/step - loss: 0.4224 - acc: 0.8011 - val_loss: 0.5167 - val_acc: 0.7715\n",
            "Epoch 14/25\n",
            "250/250 [==============================] - 315s 1s/step - loss: 0.4155 - acc: 0.8051 - val_loss: 0.5836 - val_acc: 0.7582\n",
            "Epoch 15/25\n",
            "250/250 [==============================] - 315s 1s/step - loss: 0.4005 - acc: 0.8168 - val_loss: 0.5444 - val_acc: 0.7531\n",
            "Epoch 16/25\n",
            "250/250 [==============================] - 317s 1s/step - loss: 0.3944 - acc: 0.8171 - val_loss: 0.5408 - val_acc: 0.7688\n",
            "Epoch 17/25\n",
            "250/250 [==============================] - 317s 1s/step - loss: 0.3853 - acc: 0.8243 - val_loss: 0.5886 - val_acc: 0.7430\n",
            "Epoch 18/25\n",
            "250/250 [==============================] - 317s 1s/step - loss: 0.3606 - acc: 0.8400 - val_loss: 0.5689 - val_acc: 0.7556\n",
            "Epoch 19/25\n",
            "250/250 [==============================] - 318s 1s/step - loss: 0.3457 - acc: 0.8417 - val_loss: 0.5670 - val_acc: 0.7689\n",
            "Epoch 20/25\n",
            "250/250 [==============================] - 319s 1s/step - loss: 0.3299 - acc: 0.8582 - val_loss: 0.7330 - val_acc: 0.7200\n",
            "Epoch 21/25\n",
            "250/250 [==============================] - 318s 1s/step - loss: 0.3291 - acc: 0.8546 - val_loss: 0.6123 - val_acc: 0.7551\n",
            "Epoch 22/25\n",
            "250/250 [==============================] - 317s 1s/step - loss: 0.3131 - acc: 0.8611 - val_loss: 0.6118 - val_acc: 0.7725\n",
            "Epoch 23/25\n",
            "250/250 [==============================] - 317s 1s/step - loss: 0.3058 - acc: 0.8650 - val_loss: 0.6731 - val_acc: 0.7618\n",
            "Epoch 24/25\n",
            "250/250 [==============================] - 318s 1s/step - loss: 0.2865 - acc: 0.8769 - val_loss: 0.6309 - val_acc: 0.7602\n",
            "Epoch 25/25\n",
            "250/250 [==============================] - 317s 1s/step - loss: 0.2875 - acc: 0.8786 - val_loss: 0.6335 - val_acc: 0.7627\n"
          ],
          "name": "stdout"
        },
        {
          "output_type": "execute_result",
          "data": {
            "text/plain": [
              "<keras.callbacks.History at 0x7fc232847fd0>"
            ]
          },
          "metadata": {
            "tags": []
          },
          "execution_count": 15
        }
      ]
    },
    {
      "metadata": {
        "id": "61ZT2t04C8eh",
        "colab_type": "code",
        "colab": {}
      },
      "cell_type": "code",
      "source": [
        ""
      ],
      "execution_count": 0,
      "outputs": []
    }
  ]
}