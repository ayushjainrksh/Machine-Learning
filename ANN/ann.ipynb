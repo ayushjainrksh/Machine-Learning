{
  "nbformat": 4,
  "nbformat_minor": 0,
  "metadata": {
    "colab": {
      "name": "ann.ipynb",
      "version": "0.3.2",
      "provenance": [],
      "collapsed_sections": [],
      "toc_visible": true,
      "include_colab_link": true
    },
    "kernelspec": {
      "name": "python3",
      "display_name": "Python 3"
    }
  },
  "cells": [
    {
      "cell_type": "markdown",
      "metadata": {
        "id": "view-in-github",
        "colab_type": "text"
      },
      "source": [
        "<a href=\"https://colab.research.google.com/github/ayushjainrksh/Machine-Learning/blob/master/ANN/ann.ipynb\" target=\"_parent\"><img src=\"https://colab.research.google.com/assets/colab-badge.svg\" alt=\"Open In Colab\"/></a>"
      ]
    },
    {
      "metadata": {
        "id": "iURsI-DNr3Rr",
        "colab_type": "code",
        "colab": {
          "resources": {
            "http://localhost:8080/nbextensions/google.colab/files.js": {
              "data": "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",
              "ok": true,
              "headers": [
                [
                  "content-type",
                  "application/javascript"
                ]
              ],
              "status": 200,
              "status_text": ""
            }
          },
          "base_uri": "https://localhost:8080/",
          "height": 72
        },
        "outputId": "f4b8e057-4ef7-46fc-f56e-b880456ade93"
      },
      "cell_type": "code",
      "source": [
        "from google.colab import files\n",
        "uploaded = files.upload()"
      ],
      "execution_count": 6,
      "outputs": [
        {
          "output_type": "display_data",
          "data": {
            "text/html": [
              "\n",
              "     <input type=\"file\" id=\"files-8412a4b9-8293-460c-a3f9-eca09843868c\" name=\"files[]\" multiple disabled />\n",
              "     <output id=\"result-8412a4b9-8293-460c-a3f9-eca09843868c\">\n",
              "      Upload widget is only available when the cell has been executed in the\n",
              "      current browser session. Please rerun this cell to enable.\n",
              "      </output>\n",
              "      <script src=\"/nbextensions/google.colab/files.js\"></script> "
            ],
            "text/plain": [
              "<IPython.core.display.HTML object>"
            ]
          },
          "metadata": {
            "tags": []
          }
        },
        {
          "output_type": "stream",
          "text": [
            "Saving Churn_Modelling.csv to Churn_Modelling.csv\n"
          ],
          "name": "stdout"
        }
      ]
    },
    {
      "metadata": {
        "id": "FL4nLA5zrEJp",
        "colab_type": "code",
        "colab": {}
      },
      "cell_type": "code",
      "source": [
        "#Artificial Neural Network\n",
        "\n",
        "# Importing the libraries\n",
        "import numpy as np\n",
        "import matplotlib.pyplot as plt\n",
        "import pandas as pd"
      ],
      "execution_count": 0,
      "outputs": []
    },
    {
      "metadata": {
        "id": "vJVsb_Qxr03T",
        "colab_type": "code",
        "colab": {}
      },
      "cell_type": "code",
      "source": [
        "# Importing the dataset\n",
        "dataset = pd.read_csv('Churn_Modelling.csv')\n",
        "X = dataset.iloc[:, 3:13].values\n",
        "y = dataset.iloc[:, 13].values"
      ],
      "execution_count": 0,
      "outputs": []
    },
    {
      "metadata": {
        "id": "7fyeOm2pthRe",
        "colab_type": "code",
        "colab": {}
      },
      "cell_type": "code",
      "source": [
        "#Encoding categorical data\n",
        "from sklearn.preprocessing import LabelEncoder, OneHotEncoder\n",
        "labelencoder_X_1 = LabelEncoder()\n",
        "X[:, 1] = labelencoder_X_1.fit_transform(X[:, 1])\n",
        "labelencoder_X_2 = LabelEncoder()\n",
        "X[:, 2] = labelencoder_X_2.fit_transform(X[:, 2])\n",
        "onehotencoder = OneHotEncoder(categorical_features=[1])\n",
        "X = onehotencoder.fit_transform(X).toarray()\n",
        "X = X[:, 1:]   #To avoid dummy variable trap"
      ],
      "execution_count": 0,
      "outputs": []
    },
    {
      "metadata": {
        "id": "6X0oX06Xs-sv",
        "colab_type": "code",
        "colab": {}
      },
      "cell_type": "code",
      "source": [
        "#Splitting the dataset to training set and test set\n",
        "from sklearn.model_selection import train_test_split\n",
        "X_train, X_test, y_train, y_test = train_test_split(X, y, test_size=0.2, random_state=0)"
      ],
      "execution_count": 0,
      "outputs": []
    },
    {
      "metadata": {
        "id": "fZnx3Ti708oK",
        "colab_type": "code",
        "colab": {}
      },
      "cell_type": "code",
      "source": [
        "#Feature Scaling\n",
        "from sklearn.preprocessing import StandardScaler\n",
        "sc = StandardScaler()\n",
        "X_train = sc.fit_transform(X_train)\n",
        "X_test = sc.transform(X_test)"
      ],
      "execution_count": 0,
      "outputs": []
    },
    {
      "metadata": {
        "id": "9ZTAVaK71Ain",
        "colab_type": "code",
        "colab": {}
      },
      "cell_type": "code",
      "source": [
        "#Importing Keras libraries and packages import keras\n",
        "import keras\n",
        "from keras.models import Sequential\n",
        "from keras.layers import Dense"
      ],
      "execution_count": 0,
      "outputs": []
    },
    {
      "metadata": {
        "id": "--U5yd9H-gnT",
        "colab_type": "code",
        "colab": {}
      },
      "cell_type": "code",
      "source": [
        "#Initializing the ANN\n",
        "classifier = Sequential()"
      ],
      "execution_count": 0,
      "outputs": []
    },
    {
      "metadata": {
        "id": "rpkspCRwAT5I",
        "colab_type": "code",
        "colab": {}
      },
      "cell_type": "code",
      "source": [
        "#Adding the input layer and the first hidden layer\n",
        "classifier.add(Dense(output_dim = 6, init = 'uniform', activation = 'relu', input_dim = 11))"
      ],
      "execution_count": 0,
      "outputs": []
    },
    {
      "metadata": {
        "id": "2lqXTtvmQ0qT",
        "colab_type": "code",
        "colab": {}
      },
      "cell_type": "code",
      "source": [
        "#Adding the second hidden layer\n",
        "classifier.add(Dense(output_dim = 6, init = 'uniform', activation = 'relu'))"
      ],
      "execution_count": 0,
      "outputs": []
    },
    {
      "metadata": {
        "id": "imQpUjJXRMQn",
        "colab_type": "code",
        "colab": {}
      },
      "cell_type": "code",
      "source": [
        "#Adding the output layer\n",
        "classifier.add(Dense(output_dim = 1, init = 'uniform', activation = 'sigmoid'))"
      ],
      "execution_count": 0,
      "outputs": []
    },
    {
      "metadata": {
        "id": "nPwVZD3-RORn",
        "colab_type": "code",
        "colab": {}
      },
      "cell_type": "code",
      "source": [
        "#Compiling the ANN\n",
        "classifier.compile(optimizer = 'adam', loss = 'binary_crossentropy', metrics = ['accuracy'])"
      ],
      "execution_count": 0,
      "outputs": []
    },
    {
      "metadata": {
        "id": "RBTJ6wACRkAC",
        "colab_type": "code",
        "colab": {
          "base_uri": "https://localhost:8080/",
          "height": 3488
        },
        "outputId": "853d748b-3455-4ef2-9c68-8d64944093d3"
      },
      "cell_type": "code",
      "source": [
        "#Fitting the ANN to the training set\n",
        "classifier.fit(X_train, y_train, batch_size = 10, nb_epoch = 100)"
      ],
      "execution_count": 31,
      "outputs": [
        {
          "output_type": "stream",
          "text": [
            "/usr/local/lib/python3.6/dist-packages/ipykernel_launcher.py:1: UserWarning: The `nb_epoch` argument in `fit` has been renamed `epochs`.\n",
            "  \"\"\"Entry point for launching an IPython kernel.\n"
          ],
          "name": "stderr"
        },
        {
          "output_type": "stream",
          "text": [
            "Epoch 1/100\n",
            "8000/8000 [==============================] - 1s 125us/step - loss: 0.4803 - acc: 0.7959\n",
            "Epoch 2/100\n",
            "8000/8000 [==============================] - 1s 99us/step - loss: 0.4283 - acc: 0.7960\n",
            "Epoch 3/100\n",
            "8000/8000 [==============================] - 1s 93us/step - loss: 0.4222 - acc: 0.7989\n",
            "Epoch 4/100\n",
            "8000/8000 [==============================] - 1s 90us/step - loss: 0.4180 - acc: 0.8226\n",
            "Epoch 5/100\n",
            "8000/8000 [==============================] - 1s 89us/step - loss: 0.4158 - acc: 0.8275\n",
            "Epoch 6/100\n",
            "8000/8000 [==============================] - 1s 88us/step - loss: 0.4136 - acc: 0.8297\n",
            "Epoch 7/100\n",
            "8000/8000 [==============================] - 1s 91us/step - loss: 0.4118 - acc: 0.8337\n",
            "Epoch 8/100\n",
            "8000/8000 [==============================] - 1s 88us/step - loss: 0.4111 - acc: 0.8330\n",
            "Epoch 9/100\n",
            "8000/8000 [==============================] - 1s 89us/step - loss: 0.4097 - acc: 0.8336\n",
            "Epoch 10/100\n",
            "8000/8000 [==============================] - 1s 90us/step - loss: 0.4093 - acc: 0.8342\n",
            "Epoch 11/100\n",
            "8000/8000 [==============================] - 1s 92us/step - loss: 0.4074 - acc: 0.8350\n",
            "Epoch 12/100\n",
            "8000/8000 [==============================] - 1s 91us/step - loss: 0.4074 - acc: 0.8356\n",
            "Epoch 13/100\n",
            "8000/8000 [==============================] - 1s 91us/step - loss: 0.4065 - acc: 0.8347\n",
            "Epoch 14/100\n",
            "8000/8000 [==============================] - 1s 89us/step - loss: 0.4054 - acc: 0.8352\n",
            "Epoch 15/100\n",
            "8000/8000 [==============================] - 1s 89us/step - loss: 0.4043 - acc: 0.8350\n",
            "Epoch 16/100\n",
            "8000/8000 [==============================] - 1s 88us/step - loss: 0.4032 - acc: 0.8352\n",
            "Epoch 17/100\n",
            "8000/8000 [==============================] - 1s 90us/step - loss: 0.4015 - acc: 0.8350\n",
            "Epoch 18/100\n",
            "8000/8000 [==============================] - 1s 90us/step - loss: 0.4011 - acc: 0.8365\n",
            "Epoch 19/100\n",
            "8000/8000 [==============================] - 1s 90us/step - loss: 0.4001 - acc: 0.8347\n",
            "Epoch 20/100\n",
            "8000/8000 [==============================] - 1s 87us/step - loss: 0.3993 - acc: 0.8370\n",
            "Epoch 21/100\n",
            "8000/8000 [==============================] - 1s 90us/step - loss: 0.3986 - acc: 0.8380\n",
            "Epoch 22/100\n",
            "8000/8000 [==============================] - 1s 88us/step - loss: 0.3981 - acc: 0.8364\n",
            "Epoch 23/100\n",
            "8000/8000 [==============================] - 1s 89us/step - loss: 0.3973 - acc: 0.8345\n",
            "Epoch 24/100\n",
            "8000/8000 [==============================] - 1s 90us/step - loss: 0.3976 - acc: 0.8369\n",
            "Epoch 25/100\n",
            "8000/8000 [==============================] - 1s 88us/step - loss: 0.3967 - acc: 0.8390\n",
            "Epoch 26/100\n",
            "8000/8000 [==============================] - 1s 88us/step - loss: 0.3967 - acc: 0.8346\n",
            "Epoch 27/100\n",
            "8000/8000 [==============================] - 1s 88us/step - loss: 0.3957 - acc: 0.8374\n",
            "Epoch 28/100\n",
            "8000/8000 [==============================] - 1s 89us/step - loss: 0.3959 - acc: 0.8366\n",
            "Epoch 29/100\n",
            "8000/8000 [==============================] - 1s 90us/step - loss: 0.3951 - acc: 0.8362\n",
            "Epoch 30/100\n",
            "8000/8000 [==============================] - 1s 89us/step - loss: 0.3952 - acc: 0.8372\n",
            "Epoch 31/100\n",
            "8000/8000 [==============================] - 1s 92us/step - loss: 0.3950 - acc: 0.8367\n",
            "Epoch 32/100\n",
            "8000/8000 [==============================] - 1s 91us/step - loss: 0.3957 - acc: 0.8385\n",
            "Epoch 33/100\n",
            "8000/8000 [==============================] - 1s 89us/step - loss: 0.3944 - acc: 0.8384\n",
            "Epoch 34/100\n",
            "8000/8000 [==============================] - 1s 89us/step - loss: 0.3943 - acc: 0.8375\n",
            "Epoch 35/100\n",
            "8000/8000 [==============================] - 1s 89us/step - loss: 0.3948 - acc: 0.8366\n",
            "Epoch 36/100\n",
            "8000/8000 [==============================] - 1s 88us/step - loss: 0.3945 - acc: 0.8371\n",
            "Epoch 37/100\n",
            "8000/8000 [==============================] - 1s 91us/step - loss: 0.3940 - acc: 0.8356\n",
            "Epoch 38/100\n",
            "8000/8000 [==============================] - 1s 91us/step - loss: 0.3941 - acc: 0.8371\n",
            "Epoch 39/100\n",
            "8000/8000 [==============================] - 1s 90us/step - loss: 0.3940 - acc: 0.8384\n",
            "Epoch 40/100\n",
            "8000/8000 [==============================] - 1s 89us/step - loss: 0.3945 - acc: 0.8386\n",
            "Epoch 41/100\n",
            "8000/8000 [==============================] - 1s 88us/step - loss: 0.3936 - acc: 0.8385\n",
            "Epoch 42/100\n",
            "8000/8000 [==============================] - 1s 91us/step - loss: 0.3941 - acc: 0.8381\n",
            "Epoch 43/100\n",
            "8000/8000 [==============================] - 1s 90us/step - loss: 0.3937 - acc: 0.8390\n",
            "Epoch 44/100\n",
            "8000/8000 [==============================] - 1s 90us/step - loss: 0.3935 - acc: 0.8384\n",
            "Epoch 45/100\n",
            "8000/8000 [==============================] - 1s 88us/step - loss: 0.3931 - acc: 0.8377\n",
            "Epoch 46/100\n",
            "8000/8000 [==============================] - 1s 90us/step - loss: 0.3926 - acc: 0.8385\n",
            "Epoch 47/100\n",
            "8000/8000 [==============================] - 1s 89us/step - loss: 0.3928 - acc: 0.8377\n",
            "Epoch 48/100\n",
            "8000/8000 [==============================] - 1s 87us/step - loss: 0.3925 - acc: 0.8376\n",
            "Epoch 49/100\n",
            "8000/8000 [==============================] - 1s 89us/step - loss: 0.3924 - acc: 0.8381\n",
            "Epoch 50/100\n",
            "8000/8000 [==============================] - 1s 88us/step - loss: 0.3915 - acc: 0.8394\n",
            "Epoch 51/100\n",
            "8000/8000 [==============================] - 1s 90us/step - loss: 0.3913 - acc: 0.8394\n",
            "Epoch 52/100\n",
            "8000/8000 [==============================] - 1s 89us/step - loss: 0.3911 - acc: 0.8381\n",
            "Epoch 53/100\n",
            "8000/8000 [==============================] - 1s 88us/step - loss: 0.3897 - acc: 0.8389\n",
            "Epoch 54/100\n",
            "8000/8000 [==============================] - 1s 88us/step - loss: 0.3891 - acc: 0.8382\n",
            "Epoch 55/100\n",
            "8000/8000 [==============================] - 1s 89us/step - loss: 0.3863 - acc: 0.8375\n",
            "Epoch 56/100\n",
            "8000/8000 [==============================] - 1s 88us/step - loss: 0.3832 - acc: 0.8406\n",
            "Epoch 57/100\n",
            "8000/8000 [==============================] - 1s 88us/step - loss: 0.3807 - acc: 0.8416\n",
            "Epoch 58/100\n",
            "8000/8000 [==============================] - 1s 90us/step - loss: 0.3781 - acc: 0.8406\n",
            "Epoch 59/100\n",
            "8000/8000 [==============================] - 1s 87us/step - loss: 0.3745 - acc: 0.8415\n",
            "Epoch 60/100\n",
            "8000/8000 [==============================] - 1s 89us/step - loss: 0.3717 - acc: 0.8412\n",
            "Epoch 61/100\n",
            "8000/8000 [==============================] - 1s 89us/step - loss: 0.3679 - acc: 0.8421\n",
            "Epoch 62/100\n",
            "8000/8000 [==============================] - 1s 90us/step - loss: 0.3643 - acc: 0.8469\n",
            "Epoch 63/100\n",
            "8000/8000 [==============================] - 1s 92us/step - loss: 0.3608 - acc: 0.8509\n",
            "Epoch 64/100\n",
            "8000/8000 [==============================] - 1s 90us/step - loss: 0.3585 - acc: 0.8514\n",
            "Epoch 65/100\n",
            "8000/8000 [==============================] - 1s 91us/step - loss: 0.3548 - acc: 0.8587\n",
            "Epoch 66/100\n",
            "8000/8000 [==============================] - 1s 91us/step - loss: 0.3519 - acc: 0.8577\n",
            "Epoch 67/100\n",
            "8000/8000 [==============================] - 1s 91us/step - loss: 0.3504 - acc: 0.8580\n",
            "Epoch 68/100\n",
            "8000/8000 [==============================] - 1s 93us/step - loss: 0.3486 - acc: 0.8582\n",
            "Epoch 69/100\n",
            "8000/8000 [==============================] - 1s 92us/step - loss: 0.3483 - acc: 0.8580\n",
            "Epoch 70/100\n",
            "8000/8000 [==============================] - 1s 91us/step - loss: 0.3475 - acc: 0.8601\n",
            "Epoch 71/100\n",
            "8000/8000 [==============================] - 1s 90us/step - loss: 0.3470 - acc: 0.8614\n",
            "Epoch 72/100\n",
            "8000/8000 [==============================] - 1s 87us/step - loss: 0.3469 - acc: 0.8616\n",
            "Epoch 73/100\n",
            "8000/8000 [==============================] - 1s 90us/step - loss: 0.3461 - acc: 0.8616\n",
            "Epoch 74/100\n",
            "8000/8000 [==============================] - 1s 90us/step - loss: 0.3465 - acc: 0.8582\n",
            "Epoch 75/100\n",
            "8000/8000 [==============================] - 1s 92us/step - loss: 0.3471 - acc: 0.8595\n",
            "Epoch 76/100\n",
            "8000/8000 [==============================] - 1s 89us/step - loss: 0.3455 - acc: 0.8616\n",
            "Epoch 77/100\n",
            "8000/8000 [==============================] - 1s 87us/step - loss: 0.3452 - acc: 0.8616\n",
            "Epoch 78/100\n",
            "8000/8000 [==============================] - 1s 89us/step - loss: 0.3460 - acc: 0.8607\n",
            "Epoch 79/100\n",
            "8000/8000 [==============================] - 1s 88us/step - loss: 0.3457 - acc: 0.8609\n",
            "Epoch 80/100\n",
            "8000/8000 [==============================] - 1s 91us/step - loss: 0.3449 - acc: 0.8607\n",
            "Epoch 81/100\n",
            "8000/8000 [==============================] - 1s 89us/step - loss: 0.3443 - acc: 0.8609\n",
            "Epoch 82/100\n",
            "8000/8000 [==============================] - 1s 91us/step - loss: 0.3448 - acc: 0.8615\n",
            "Epoch 83/100\n",
            "8000/8000 [==============================] - 1s 91us/step - loss: 0.3449 - acc: 0.8591\n",
            "Epoch 84/100\n",
            "8000/8000 [==============================] - 1s 91us/step - loss: 0.3447 - acc: 0.8614\n",
            "Epoch 85/100\n",
            "8000/8000 [==============================] - 1s 90us/step - loss: 0.3440 - acc: 0.8631\n",
            "Epoch 86/100\n",
            "8000/8000 [==============================] - 1s 87us/step - loss: 0.3447 - acc: 0.8609\n",
            "Epoch 87/100\n",
            "8000/8000 [==============================] - 1s 90us/step - loss: 0.3438 - acc: 0.8602\n",
            "Epoch 88/100\n",
            "8000/8000 [==============================] - 1s 88us/step - loss: 0.3446 - acc: 0.8602\n",
            "Epoch 89/100\n",
            "8000/8000 [==============================] - 1s 89us/step - loss: 0.3431 - acc: 0.8606\n",
            "Epoch 90/100\n",
            "8000/8000 [==============================] - 1s 89us/step - loss: 0.3441 - acc: 0.8611\n",
            "Epoch 91/100\n",
            "8000/8000 [==============================] - 1s 88us/step - loss: 0.3435 - acc: 0.8612\n",
            "Epoch 92/100\n",
            "8000/8000 [==============================] - 1s 90us/step - loss: 0.3439 - acc: 0.8610\n",
            "Epoch 93/100\n",
            "8000/8000 [==============================] - 1s 88us/step - loss: 0.3424 - acc: 0.8617\n",
            "Epoch 94/100\n",
            "8000/8000 [==============================] - 1s 90us/step - loss: 0.3433 - acc: 0.8619\n",
            "Epoch 95/100\n",
            "8000/8000 [==============================] - 1s 88us/step - loss: 0.3428 - acc: 0.8629\n",
            "Epoch 96/100\n",
            "8000/8000 [==============================] - 1s 91us/step - loss: 0.3435 - acc: 0.8609\n",
            "Epoch 97/100\n",
            "8000/8000 [==============================] - 1s 90us/step - loss: 0.3425 - acc: 0.8626\n",
            "Epoch 98/100\n",
            "8000/8000 [==============================] - 1s 88us/step - loss: 0.3427 - acc: 0.8595\n",
            "Epoch 99/100\n",
            "8000/8000 [==============================] - 1s 90us/step - loss: 0.3432 - acc: 0.8607\n",
            "Epoch 100/100\n",
            "8000/8000 [==============================] - 1s 89us/step - loss: 0.3424 - acc: 0.8612\n"
          ],
          "name": "stdout"
        },
        {
          "output_type": "execute_result",
          "data": {
            "text/plain": [
              "<keras.callbacks.History at 0x7fc7b33ec9e8>"
            ]
          },
          "metadata": {
            "tags": []
          },
          "execution_count": 31
        }
      ]
    },
    {
      "metadata": {
        "id": "WIkGAtaVTgf4",
        "colab_type": "code",
        "colab": {}
      },
      "cell_type": "code",
      "source": [
        "#Predicting the test set results\n",
        "y_pred = classifier.predict(X_test)\n",
        "y_pred = (y_pred > 0.5)"
      ],
      "execution_count": 0,
      "outputs": []
    },
    {
      "metadata": {
        "id": "DwTBBOMwVtbi",
        "colab_type": "code",
        "colab": {}
      },
      "cell_type": "code",
      "source": [
        "#Creating a confusion matrix\n",
        "from sklearn.metrics import confusion_matrix\n",
        "cm = confusion_matrix(y_test, y_pred)"
      ],
      "execution_count": 0,
      "outputs": []
    }
  ]
}